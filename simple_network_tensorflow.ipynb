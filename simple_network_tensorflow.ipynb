{
 "cells": [
  {
   "cell_type": "markdown",
   "metadata": {},
   "source": [
    "# link: https://www.youtube.com/watch?v=0e0z28wAWfg"
   ]
  },
  {
   "cell_type": "code",
   "execution_count": 1,
   "metadata": {},
   "outputs": [],
   "source": [
    "import os\n",
    "os.environ[\"CUDA_DEVICE_ORDER\"]=\"PCI_BUS_ID\"\n",
    "os.environ[\"CUDA_VISIBLE_DEVICES\"]=\"\""
   ]
  },
  {
   "cell_type": "code",
   "execution_count": 2,
   "metadata": {},
   "outputs": [],
   "source": [
    "import tensorflow as tf"
   ]
  },
  {
   "cell_type": "code",
   "execution_count": 3,
   "metadata": {},
   "outputs": [],
   "source": [
    "class Layer(object):\n",
    "    def __init__(self, w, b):\n",
    "        self.W = tf.Variable(w)\n",
    "        self.b = tf.Variable(b)\n",
    "        \n",
    "    def __call__(self, x):\n",
    "        return tf.sigmoid(tf.matmul(x, self.W) + self.b)"
   ]
  },
  {
   "cell_type": "code",
   "execution_count": 4,
   "metadata": {},
   "outputs": [],
   "source": [
    "features = [0.05, 0.10]\n",
    "labels = [0.01, 0.99]"
   ]
  },
  {
   "cell_type": "code",
   "execution_count": 5,
   "metadata": {},
   "outputs": [],
   "source": [
    "# input layer\n",
    "x = tf.constant(features, shape=(1, 2))\n",
    "y_true = tf.constant(labels, shape=(1, 2))\n",
    "\n",
    "# hidden 1\n",
    "w1 = [[0.15, 0.25], [0.20, 0.30]]\n",
    "b1 = [0.35]\n",
    "h1 = Layer(w1, b1)\n",
    "\n",
    "# output layer\n",
    "w2 = [[0.40, 0.50], [0.45, 0.55]]\n",
    "b2 = [0.60]\n",
    "y_pred = Layer(w2, b2)"
   ]
  },
  {
   "cell_type": "code",
   "execution_count": 6,
   "metadata": {},
   "outputs": [],
   "source": [
    "optimizer = tf.optimizers.SGD(0.5)"
   ]
  },
  {
   "cell_type": "code",
   "execution_count": 7,
   "metadata": {},
   "outputs": [],
   "source": [
    "def train(x, y_true):\n",
    "    with tf.GradientTape() as h:\n",
    "        with tf.GradientTape() as y:\n",
    "            loss = tf.reduce_sum(tf.square( y_true-y_pred(h1(x)))) / 2\n",
    "        d1 = y.gradient(loss, [y_pred.W, y_pred.b])\n",
    "        optimizer.apply_gradients(zip(d1, [y_pred.W, y_pred.b]))\n",
    "        \n",
    "    d2 = h.gradient(d1, [h1.W, h1.b])\n",
    "    optimizer.apply_gradients(zip(d2, [h1.W, h1.b]))\n",
    "    return loss"
   ]
  },
  {
   "cell_type": "code",
   "execution_count": 8,
   "metadata": {},
   "outputs": [
    {
     "name": "stdout",
     "output_type": "stream",
     "text": [
      "Initial:\n",
      "\ty_pred: [0.4  0.5  0.45 0.55]\n",
      "\th1    : [0.15 0.25 0.2  0.3 ]\n",
      "Epoch 1:\n",
      "\tloss  : 0.2983711\n",
      "\ty_pred: [0.3589165  0.5113013  0.40866616 0.56137013]\n",
      "\th1    : [0.14923699 0.24922805 0.19847398 0.2984561 ]\n",
      "Epoch 2:\n",
      "\tloss  : 0.28541067\n",
      "\ty_pred: [0.3174001  0.52315015 0.36689222 0.5732925 ]\n",
      "\th1    : [0.1483874  0.2483629  0.19677481 0.2967258 ]\n",
      "Epoch 3:\n",
      "\tloss  : 0.2722608\n",
      "\ty_pred: [0.27579102 0.5355557  0.3250198  0.58577657]\n",
      "\th1    : [0.14746073 0.24741338 0.19492148 0.29482678]\n",
      "Epoch 4:\n",
      "\tloss  : 0.25918064\n",
      "\ty_pred: [0.23444778 0.54851675 0.28340927 0.5988214 ]\n",
      "\th1    : [0.14647043 0.24639249 0.19294088 0.292785  ]\n",
      "Epoch 5:\n",
      "\tloss  : 0.24643831\n",
      "\ty_pred: [0.19372073 0.5620203  0.24241292 0.61241424]\n",
      "\th1    : [0.145433   0.24531658 0.19086601 0.29063317]\n",
      "Epoch 6:\n",
      "\tloss  : 0.2342829\n",
      "\ty_pred: [0.15392566 0.57604134 0.20234857 0.6265302 ]\n",
      "\th1    : [0.14436653 0.24420393 0.18873309 0.28840786]\n",
      "Epoch 7:\n",
      "\tloss  : 0.22291772\n",
      "\ty_pred: [0.11532243 0.5905436  0.16347802 0.6411329 ]\n",
      "\th1    : [0.14328912 0.24307308 0.18657827 0.28614616]\n",
      "Epoch 8:\n",
      "\tloss  : 0.2124835\n",
      "\ty_pred: [0.07810271 0.60548156 0.12599458 0.6561767 ]\n",
      "\th1    : [0.1422173  0.24194126 0.18443464 0.28388253]\n",
      "Epoch 9:\n",
      "\tloss  : 0.20305291\n",
      "\ty_pred: [0.04238743 0.6208029  0.09002055 0.671609  ]\n",
      "\th1    : [0.14116497 0.24082325 0.18233001 0.28164652]\n",
      "Epoch 10:\n",
      "\tloss  : 0.19463646\n",
      "\ty_pred: [0.00823264 0.6364515  0.055613   0.6873734 ]\n",
      "\th1    : [0.1401429  0.23973072 0.18028587 0.27946144]\n"
     ]
    }
   ],
   "source": [
    "print('Initial:')\n",
    "print('\\ty_pred:', y_pred.W.numpy().reshape(-1))\n",
    "print('\\th1    :', h1.W.numpy().reshape(-1))\n",
    "\n",
    "for epoch in range(10):\n",
    "    loss = train(x, y_true)\n",
    "    print(f'Epoch {epoch+1}:')\n",
    "    print('\\tloss  :', loss.numpy())\n",
    "    print('\\ty_pred:', y_pred.W.numpy().reshape(-1))\n",
    "    print('\\th1    :', h1.W.numpy().reshape(-1))"
   ]
  },
  {
   "cell_type": "code",
   "execution_count": null,
   "metadata": {},
   "outputs": [],
   "source": []
  }
 ],
 "metadata": {
  "kernelspec": {
   "display_name": "Python 3",
   "language": "python",
   "name": "python3"
  },
  "language_info": {
   "codemirror_mode": {
    "name": "ipython",
    "version": 3
   },
   "file_extension": ".py",
   "mimetype": "text/x-python",
   "name": "python",
   "nbconvert_exporter": "python",
   "pygments_lexer": "ipython3",
   "version": "3.7.6"
  }
 },
 "nbformat": 4,
 "nbformat_minor": 4
}
