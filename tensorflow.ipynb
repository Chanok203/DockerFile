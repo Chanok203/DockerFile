{
 "cells": [
  {
   "cell_type": "code",
   "execution_count": 1,
   "metadata": {},
   "outputs": [],
   "source": [
    "# Ignore warnings\n",
    "\n",
    "import warnings\n",
    "warnings.filterwarnings('ignore')"
   ]
  },
  {
   "cell_type": "code",
   "execution_count": 2,
   "metadata": {},
   "outputs": [
    {
     "name": "stdout",
     "output_type": "stream",
     "text": [
      "Python Version: 3.7.6\n"
     ]
    }
   ],
   "source": [
    "# Check Python Environments\n",
    "\n",
    "import sys\n",
    "\n",
    "print( 'Python Version:', sys.version.split()[0] )"
   ]
  },
  {
   "cell_type": "code",
   "execution_count": 3,
   "metadata": {},
   "outputs": [
    {
     "name": "stdout",
     "output_type": "stream",
     "text": [
      "GPU 0: GeForce GTX 1070 Ti (UUID: GPU-48b7cc91-97d8-36be-f438-35c05dead2ec)\n",
      "GPU 1: GeForce GTX 1070 Ti (UUID: GPU-4ebfd3a3-6fac-600e-aabf-9230eba08522)\n"
     ]
    }
   ],
   "source": [
    "# Check GPU available on container\n",
    "!nvidia-smi -L"
   ]
  },
  {
   "cell_type": "code",
   "execution_count": 4,
   "metadata": {},
   "outputs": [
    {
     "name": "stdout",
     "output_type": "stream",
     "text": [
      "CUDA Version: 10.1.243\n"
     ]
    }
   ],
   "source": [
    "# select CUDA device with PCI BUS ID\n",
    "# note: default CUDA will sort by speed (GPU 0 is fastest GPU)\n",
    "\n",
    "import os\n",
    "os.environ[\"CUDA_DEVICE_ORDER\"]=\"PCI_BUS_ID\"\n",
    "os.environ[\"CUDA_VISIBLE_DEVICES\"]=\"0\"\n",
    "\n",
    "print( 'CUDA Version:', os.environ['CUDA_VERSION'] )"
   ]
  },
  {
   "cell_type": "code",
   "execution_count": 5,
   "metadata": {},
   "outputs": [
    {
     "name": "stdout",
     "output_type": "stream",
     "text": [
      "Tensorflow Version: 2.1.0\n",
      "GPU Available:: [PhysicalDevice(name='/physical_device:GPU:0', device_type='GPU')]\n"
     ]
    }
   ],
   "source": [
    "# Check Tensorflow Environments\n",
    "\n",
    "import tensorflow as tf\n",
    "\n",
    "print( 'Tensorflow Version:', tf.__version__)\n",
    "print(\"GPU Available::\", tf.config.list_physical_devices('GPU'))\n",
    "\n",
    "# note Tensorflow see GPU from PCI BUS ID"
   ]
  },
  {
   "cell_type": "code",
   "execution_count": 6,
   "metadata": {},
   "outputs": [
    {
     "name": "stdout",
     "output_type": "stream",
     "text": [
      "x_train: (60000, 28, 28) y_train: (60000,)\n",
      "x_test: (10000, 28, 28) y_test: (10000,)\n"
     ]
    }
   ],
   "source": [
    "# Load mnist\n",
    "from tensorflow.keras.datasets import mnist\n",
    "\n",
    "(x_train, y_train), (x_test, y_test) = mnist.load_data()\n",
    "\n",
    "print( 'x_train: {}'.format(str(x_train.shape)), 'y_train: {}'.format(str(y_train.shape)) )\n",
    "print( 'x_test: {}'.format(str(x_test.shape)), 'y_test: {}'.format(str(y_test.shape)) )"
   ]
  },
  {
   "cell_type": "code",
   "execution_count": 7,
   "metadata": {},
   "outputs": [
    {
     "name": "stdout",
     "output_type": "stream",
     "text": [
      "x_train: (60000, 28, 28, 1) y_train: (60000, 10)\n",
      "x_test: (10000, 28, 28, 1) y_test: (10000, 10)\n"
     ]
    }
   ],
   "source": [
    "# Prepare data\n",
    "from tensorflow.keras.utils import to_categorical\n",
    "import numpy as np\n",
    "\n",
    "x_train = x_train.reshape( x_train.shape + (1,) ).astype(np.float32) / 255.\n",
    "x_test = x_test.reshape( x_test.shape + (1,) ).astype(np.float32) / 255.\n",
    "\n",
    "y_train = to_categorical(y_train, 10)\n",
    "y_test = to_categorical(y_test, 10)\n",
    "\n",
    "print( 'x_train: {}'.format(str(x_train.shape)), 'y_train: {}'.format(str(y_train.shape)) )\n",
    "print( 'x_test: {}'.format(str(x_test.shape)), 'y_test: {}'.format(str(y_test.shape)) )"
   ]
  },
  {
   "cell_type": "code",
   "execution_count": 8,
   "metadata": {},
   "outputs": [
    {
     "name": "stdout",
     "output_type": "stream",
     "text": [
      "Model: \"my_model\"\n",
      "_________________________________________________________________\n",
      "Layer (type)                 Output Shape              Param #   \n",
      "=================================================================\n",
      "conv2d (Conv2D)              (None, 26, 26, 32)        320       \n",
      "_________________________________________________________________\n",
      "conv2d_1 (Conv2D)            (None, 24, 24, 64)        18496     \n",
      "_________________________________________________________________\n",
      "max_pooling2d (MaxPooling2D) (None, 12, 12, 64)        0         \n",
      "_________________________________________________________________\n",
      "dropout (Dropout)            (None, 12, 12, 64)        0         \n",
      "_________________________________________________________________\n",
      "flatten (Flatten)            (None, 9216)              0         \n",
      "_________________________________________________________________\n",
      "dense (Dense)                (None, 128)               1179776   \n",
      "_________________________________________________________________\n",
      "dropout_1 (Dropout)          (None, 128)               0         \n",
      "_________________________________________________________________\n",
      "dense_1 (Dense)              (None, 10)                1290      \n",
      "=================================================================\n",
      "Total params: 1,199,882\n",
      "Trainable params: 1,199,882\n",
      "Non-trainable params: 0\n",
      "_________________________________________________________________\n"
     ]
    }
   ],
   "source": [
    "# Define model with Sequential\n",
    "from tensorflow.keras.models import Sequential\n",
    "from tensorflow.keras.layers import Conv2D, MaxPooling2D, Dropout, Flatten, Dense\n",
    "from tensorflow.keras.losses import categorical_crossentropy\n",
    "from tensorflow.keras.optimizers import Adam\n",
    "from tensorflow.keras.metrics import categorical_accuracy\n",
    "from tensorflow.keras.activations import relu, softmax\n",
    "\n",
    "model = Sequential(name=\"my_model\")\n",
    "model.add(Conv2D(32, kernel_size=(3,3), activation=relu, input_shape=x_train.shape[1:] ))\n",
    "model.add(Conv2D(64, (3, 3), activation=relu))\n",
    "model.add(MaxPooling2D(pool_size=(2, 2)))\n",
    "model.add(Dropout(0.25))\n",
    "model.add(Flatten())\n",
    "model.add(Dense(128, activation=relu))\n",
    "model.add(Dropout(0.5))\n",
    "model.add(Dense(y_train.shape[1], activation=softmax))\n",
    "\n",
    "model.compile(loss=categorical_crossentropy,\n",
    "              optimizer=Adam(),\n",
    "              metrics=[categorical_accuracy])\n",
    "\n",
    "model.summary()"
   ]
  },
  {
   "cell_type": "code",
   "execution_count": 9,
   "metadata": {},
   "outputs": [
    {
     "name": "stdout",
     "output_type": "stream",
     "text": [
      "Train on 60000 samples, validate on 10000 samples\n",
      "Epoch 1/5\n",
      "60000/60000 [==============================] - 6s 98us/sample - loss: 0.2616 - categorical_accuracy: 0.9215 - val_loss: 0.0546 - val_categorical_accuracy: 0.9827\n",
      "Epoch 2/5\n",
      "60000/60000 [==============================] - 5s 85us/sample - loss: 0.0908 - categorical_accuracy: 0.9739 - val_loss: 0.0396 - val_categorical_accuracy: 0.9867\n",
      "Epoch 3/5\n",
      "60000/60000 [==============================] - 5s 89us/sample - loss: 0.0656 - categorical_accuracy: 0.9800 - val_loss: 0.0377 - val_categorical_accuracy: 0.9881\n",
      "Epoch 4/5\n",
      "60000/60000 [==============================] - 5s 89us/sample - loss: 0.0559 - categorical_accuracy: 0.9826 - val_loss: 0.0317 - val_categorical_accuracy: 0.9904\n",
      "Epoch 5/5\n",
      "60000/60000 [==============================] - 5s 88us/sample - loss: 0.0460 - categorical_accuracy: 0.9859 - val_loss: 0.0285 - val_categorical_accuracy: 0.9911\n"
     ]
    }
   ],
   "source": [
    "# Train model\n",
    "\n",
    "history = model.fit(\n",
    "    x_train, y_train, \n",
    "    batch_size=128, \n",
    "    epochs=5, \n",
    "    verbose=1, \n",
    "    validation_data=(x_test, y_test)\n",
    ")"
   ]
  },
  {
   "cell_type": "code",
   "execution_count": 10,
   "metadata": {},
   "outputs": [
    {
     "name": "stdout",
     "output_type": "stream",
     "text": [
      "10000/10000 [==============================] - 1s 85us/sample - loss: 0.0285 - categorical_accuracy: 0.9911\n",
      "test loss: 0.02846179952417151\n",
      "test acc: 0.991100013256073\n"
     ]
    }
   ],
   "source": [
    "# Test model\n",
    "\n",
    "loss, acc = model.evaluate(x_test, y_test, verbose=1)\n",
    "\n",
    "print('test loss: {}'.format(loss))\n",
    "print('test acc: {}'.format(acc))"
   ]
  },
  {
   "cell_type": "code",
   "execution_count": null,
   "metadata": {},
   "outputs": [],
   "source": []
  }
 ],
 "metadata": {
  "kernelspec": {
   "display_name": "Python 3",
   "language": "python",
   "name": "python3"
  },
  "language_info": {
   "codemirror_mode": {
    "name": "ipython",
    "version": 3
   },
   "file_extension": ".py",
   "mimetype": "text/x-python",
   "name": "python",
   "nbconvert_exporter": "python",
   "pygments_lexer": "ipython3",
   "version": "3.7.6"
  }
 },
 "nbformat": 4,
 "nbformat_minor": 4
}
